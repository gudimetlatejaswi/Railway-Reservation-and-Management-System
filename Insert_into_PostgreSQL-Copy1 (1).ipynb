{
 "cells": [
  {
   "cell_type": "code",
   "execution_count": 37,
   "id": "ff859dce",
   "metadata": {},
   "outputs": [
    {
     "name": "stdout",
     "output_type": "stream",
     "text": [
      "Collecting psycopg2\n",
      "  Obtaining dependency information for psycopg2 from https://files.pythonhosted.org/packages/37/2c/5133dd3183a3bd82371569f0dd783e6927672de7e671b278ce248810b7f7/psycopg2-2.9.9-cp311-cp311-win_amd64.whl.metadata\n",
      "  Downloading psycopg2-2.9.9-cp311-cp311-win_amd64.whl.metadata (4.5 kB)\n",
      "Downloading psycopg2-2.9.9-cp311-cp311-win_amd64.whl (1.2 MB)\n",
      "   ---------------------------------------- 0.0/1.2 MB ? eta -:--:--\n",
      "   -------- ------------------------------- 0.3/1.2 MB 5.2 MB/s eta 0:00:01\n",
      "   ---------------------------------------  1.2/1.2 MB 12.2 MB/s eta 0:00:01\n",
      "   ---------------------------------------- 1.2/1.2 MB 10.6 MB/s eta 0:00:00\n",
      "Installing collected packages: psycopg2\n",
      "Successfully installed psycopg2-2.9.9\n"
     ]
    }
   ],
   "source": [
    "!pip install psycopg2"
   ]
  },
  {
   "cell_type": "code",
   "execution_count": 11,
   "id": "b7eff74c",
   "metadata": {},
   "outputs": [],
   "source": [
    "import csv\n",
    "import psycopg2\n",
    "\n",
    "# Database connection\n",
    "conn = psycopg2.connect(\n",
    "    host=\"127.0.0.1\",\n",
    "    database=\"Railway_Management\",\n",
    "    user=\"postgres\",\n",
    "    password=\"postgres\"\n",
    ")\n",
    "\n",
    "# Read and preprocess the CSV\n",
    "with open('trains1.csv', 'r') as f:\n",
    "    reader = csv.reader(f)\n",
    "    next(reader)  # Skip the header row\n",
    "\n",
    "    # Replace empty values with None and store in the data list\n",
    "    data = []\n",
    "    for row in reader:\n",
    "        new_row = [(None if val == '' else val) for val in row]\n",
    "        data.append(tuple(new_row))\n",
    "\n",
    "# Insert the data into the database\n",
    "with conn.cursor() as cur:\n",
    "    cur.executemany(\n",
    "        '''INSERT INTO trains (train_number, \n",
    "        train_name, \n",
    "        from_station_code, \n",
    "        departure, \n",
    "        to_station_code, \n",
    "        arrival, \n",
    "        distance, \n",
    "        duration_hours, \n",
    "        duration_minutes, \n",
    "        sleeper, \n",
    "        chair_car, \n",
    "        first_class, \n",
    "        first_ac, \n",
    "        second_ac, \n",
    "        third_ac, \n",
    "        return_train, \n",
    "        train_type,\n",
    "        total_seats) \n",
    "        VALUES ( %s, %s, %s, %s, %s, %s, %s, %s, %s, %s, %s, %s, %s, %s, %s, %s, %s, %s)''',\n",
    "        data\n",
    "    )\n",
    "\n",
    "# Commit the changes and close the connection\n",
    "conn.commit()\n",
    "conn.close()\n"
   ]
  },
  {
   "cell_type": "code",
   "execution_count": 8,
   "id": "2c228a88",
   "metadata": {},
   "outputs": [],
   "source": [
    "import csv\n",
    "import psycopg2\n",
    "\n",
    "# Database connection\n",
    "conn = psycopg2.connect(\n",
    "    host=\"127.0.0.1\",\n",
    "    database=\"Railway_Management\",\n",
    "    user=\"postgres\",\n",
    "    password=\"postgres\"\n",
    ")\n",
    "\n",
    "# Read and preprocess the CSV\n",
    "with open('stations.csv', 'r') as f:\n",
    "    reader = csv.reader(f)\n",
    "    next(reader)  # Skip the header row\n",
    "\n",
    "    # Replace empty values with None and store in the data list\n",
    "    data = []\n",
    "    for row in reader:\n",
    "        new_row = [(None if val == '' else val) for val in row]\n",
    "        data.append(tuple(new_row))\n",
    "\n",
    "# Insert the data into the database\n",
    "with conn.cursor() as cur:\n",
    "    cur.executemany(\n",
    "        '''INSERT INTO stations (station_code,station_name,station_zone,station_state,station_address) \n",
    "        VALUES (%s, %s, %s, %s, %s)''',\n",
    "        data\n",
    "    )\n",
    "\n",
    "# Commit the changes and close the connection\n",
    "conn.commit()\n",
    "conn.close()\n"
   ]
  },
  {
   "cell_type": "code",
   "execution_count": 13,
   "id": "ecc1d175",
   "metadata": {},
   "outputs": [],
   "source": [
    "import csv\n",
    "import psycopg2\n",
    "\n",
    "# Database connection\n",
    "conn = psycopg2.connect(\n",
    "    host=\"127.0.0.1\",\n",
    "    database=\"Railway_Management\",\n",
    "    user=\"postgres\",\n",
    "    password=\"postgres\"\n",
    ")\n",
    "\n",
    "# Read and preprocess the CSV\n",
    "with open('schedules1.csv', 'r') as f:\n",
    "    reader = csv.reader(f)\n",
    "    next(reader)  # Skip the header row\n",
    "\n",
    "    # Replace empty values with None and store in the data list\n",
    "    data = []\n",
    "    for row in reader:\n",
    "        new_row = [(None if val == '' else val) for val in row]\n",
    "        data.append(tuple(new_row))\n",
    "\n",
    "# Insert the data into the database\n",
    "with conn.cursor() as cur:\n",
    "    cur.executemany(\n",
    "        '''INSERT INTO schedules (schedule_id,train_number,station_code,arrival,departure)\n",
    "        VALUES (%s, %s, %s, %s, %s)''',\n",
    "        data\n",
    "    )\n",
    "\n",
    "# Commit the changes and close the connection\n",
    "conn.commit()\n",
    "conn.close()\n"
   ]
  },
  {
   "cell_type": "code",
   "execution_count": 58,
   "id": "d64dcdc7",
   "metadata": {},
   "outputs": [
    {
     "name": "stdout",
     "output_type": "stream",
     "text": [
      "Collecting faker\n",
      "  Obtaining dependency information for faker from https://files.pythonhosted.org/packages/6a/e9/98fc3f589186f14b42765061a87c522f5461aeb77d71c354bc7dcad33ddb/Faker-19.11.0-py3-none-any.whl.metadata\n",
      "  Downloading Faker-19.11.0-py3-none-any.whl.metadata (15 kB)\n",
      "Requirement already satisfied: python-dateutil>=2.4 in c:\\users\\shilpa\\anaconda3\\lib\\site-packages (from faker) (2.8.2)\n",
      "Requirement already satisfied: six>=1.5 in c:\\users\\shilpa\\anaconda3\\lib\\site-packages (from python-dateutil>=2.4->faker) (1.16.0)\n",
      "Downloading Faker-19.11.0-py3-none-any.whl (1.7 MB)\n",
      "   ---------------------------------------- 0.0/1.7 MB ? eta -:--:--\n",
      "   ------ --------------------------------- 0.3/1.7 MB 5.7 MB/s eta 0:00:01\n",
      "   ----------------------- ---------------- 1.0/1.7 MB 12.9 MB/s eta 0:00:01\n",
      "   ---------------------------------------  1.7/1.7 MB 13.8 MB/s eta 0:00:01\n",
      "   ---------------------------------------- 1.7/1.7 MB 12.3 MB/s eta 0:00:00\n",
      "Installing collected packages: faker\n",
      "Successfully installed faker-19.11.0\n"
     ]
    }
   ],
   "source": [
    "!pip install faker"
   ]
  },
  {
   "cell_type": "code",
   "execution_count": 3,
   "id": "f015e8c2",
   "metadata": {},
   "outputs": [],
   "source": [
    "import random\n",
    "import itertools"
   ]
  },
  {
   "cell_type": "code",
   "execution_count": 9,
   "id": "284c3844",
   "metadata": {},
   "outputs": [],
   "source": [
    "from faker import Faker\n",
    "fake = Faker('en_IN')\n",
    "Faker.seed(15)\n",
    "random.seed(50)\n",
    "conn = psycopg2.connect(\n",
    "    host=\"127.0.0.1\",\n",
    "    database=\"Railway_Management\",\n",
    "    user=\"postgres\",\n",
    "    password=\"postgres\"\n",
    ")\n",
    "cur = conn.cursor()\n",
    "p_ids=[]\n",
    "p_fnames=[]\n",
    "p_lnames=[]\n",
    "p_nums=[]\n",
    "p_emails=[]\n",
    "p_citys=[]\n",
    "p_states=[]\n",
    "\n",
    "for i in range(500):\n",
    "    p_id = fake.unique.random_number(digits=6)\n",
    "    p_ids.append(p_id)\n",
    "    p_fname = fake.first_name()\n",
    "    p_fnames.append(p_fname)\n",
    "    p_lname = fake.last_name()\n",
    "    p_lnames.append(p_lname)\n",
    "    p_num = fake.unique.numerify(text='###-###-###1')\n",
    "    p_nums.append(p_num)\n",
    "    p_email = f'{p_lname}.{p_fname}@gmail.com'\n",
    "    p_emails.append(p_email)\n",
    "    p_city = fake.city()\n",
    "    p_citys.append(p_city)\n",
    "    p_state = fake.state()\n",
    "    p_states.append(p_state)\n",
    "pass_details = list(zip(p_ids, p_fnames, p_lnames,p_nums,p_emails,p_citys,p_states))\n",
    "\n",
    "sex = [\"male\", \"female\"]\n",
    "for i in range(500):\n",
    "    p_id = pass_details[i][0]\n",
    "    p_fname = pass_details[i][1]\n",
    "    p_lname = pass_details[i][2]\n",
    "    p_nums = pass_details[i][3]\n",
    "    p_email = pass_details[i][4]\n",
    "    p_age = random.randint(18,80)\n",
    "    p_sex = random.choice(sex)\n",
    "    p_city = pass_details[i][5]\n",
    "    p_state = pass_details[i][6]\n",
    "    query = f\"INSERT INTO passengers (passenger_id ,passenger_fname ,passenger_lname ,\\\n",
    "passenger_phone ,passenger_email ,passenger_city ,passenger_state )\\\n",
    "    VALUES ({p_id}, '{p_fname}', '{p_lname}', '{p_nums}', '{p_email}', '{p_city}', '{p_state}')\"\n",
    "    cur.execute(query)\n",
    "    \n",
    "conn.commit()\n",
    "cur.close()\n",
    "conn.close()"
   ]
  },
  {
   "cell_type": "code",
   "execution_count": 10,
   "id": "e7885d17",
   "metadata": {},
   "outputs": [],
   "source": [
    "conn = psycopg2.connect(\n",
    "    host=\"127.0.0.1\",\n",
    "    database=\"Railway_Management\",\n",
    "    user=\"postgres\",\n",
    "    password=\"postgres\"\n",
    ")\n",
    "cur = conn.cursor()\n",
    "f=set()\n",
    "l=set()\n",
    "for i in range(100):\n",
    "    fname = fake.first_name()\n",
    "    lname = fake.last_name()\n",
    "    f.add(fname)\n",
    "    l.add(lname)\n",
    "combinations = list(itertools.product(f, l))\n",
    "cur.execute(\"SELECT station_Code FROM stations\")\n",
    "stationids = cur.fetchall()\n",
    "stationid_list = [item for sublist in stationids for item in sublist]\n",
    "designation = [\"station master\",\"driver\",\"ticket collector\",\"janitor\",\"booking staff\", \"announcer\", \"food service\", \"engineer\", \"maintenance staff\"]\n",
    "for i in range(1,3000):\n",
    "    rand_emp = random.choice(combinations)\n",
    "    emp_id = i\n",
    "    station_id = random.choice(stationid_list)\n",
    "    emp_fname = rand_emp[0]\n",
    "    emp_lname = rand_emp[1]\n",
    "    emp_contact_number = fake.unique.numerify(text='###-###-###3')\n",
    "    emp_email = f'{emp_lname}.{emp_fname}@indrly.com'\n",
    "    emp_yoj = random.randint(2000,2022)\n",
    "    emp_city = fake.city()\n",
    "    emp_state = fake.state()\n",
    "    emp_designation = random.choice(designation)\n",
    "    emp_salary = random.randint(30000,55000)\n",
    "    query = f\"INSERT INTO employees (emp_id, station_id, emp_fname, emp_lname, emp_contact_number,\\\n",
    "    emp_email, emp_yoj, emp_city, emp_state, emp_designation, emp_salary)\\\n",
    "    VALUES ({emp_id}, '{station_id}', '{emp_fname}', '{emp_lname}', '{emp_contact_number}',\\\n",
    "    '{emp_email}', {emp_yoj}, '{emp_city}', '{emp_state}', '{emp_designation}', {emp_salary})\"\n",
    "    cur.execute(query)\n",
    "    \n",
    "conn.commit()\n",
    "cur.close()\n",
    "conn.close()"
   ]
  },
  {
   "cell_type": "code",
   "execution_count": 12,
   "id": "c680b07f",
   "metadata": {},
   "outputs": [],
   "source": [
    "conn = psycopg2.connect(\n",
    "    host=\"127.0.0.1\",\n",
    "    database=\"Railway_Management\",\n",
    "    user=\"postgres\",\n",
    "    password=\"postgres\"\n",
    ")\n",
    "\n",
    "# Read and preprocess the CSV\n",
    "with open('seat_availability1.csv', 'r') as f:\n",
    "    reader = csv.reader(f)\n",
    "    next(reader)  # Skip the header row\n",
    "\n",
    "    # Replace empty values with None and store in the data list\n",
    "    data = []\n",
    "    for row in reader:\n",
    "        new_row = [(None if val == '' else val) for val in row]\n",
    "        data.append(tuple(new_row))\n",
    "\n",
    "# Insert the data into the database\n",
    "with conn.cursor() as cur:\n",
    "    cur.executemany(\n",
    "        '''INSERT INTO seat_availability (train_number,date,total_available)\n",
    "        VALUES (%s, %s, %s)''',\n",
    "        data\n",
    "    )\n",
    "\n",
    "# Commit the changes and close the connection\n",
    "conn.commit()\n",
    "conn.close()"
   ]
  },
  {
   "cell_type": "code",
   "execution_count": 22,
   "id": "4bdf86fd",
   "metadata": {},
   "outputs": [
    {
     "name": "stdout",
     "output_type": "stream",
     "text": [
      "[(475361,), (682706,), (914873,), (403847,), (834476,), (210349,), (667205,), (354733,), (248413,), (948391,), (11239,), (723647,), (514651,), (565370,), (163622,), (571463,), (375476,), (608846,), (132316,), (876969,), (256536,), (136015,), (399509,), (801725,), (482847,), (440065,), (576711,), (192458,), (936968,), (645322,), (75915,), (400113,), (717193,), (216,), (674710,), (820197,), (509210,), (941654,), (169249,), (707857,), (383040,), (19660,), (192803,), (315845,), (521753,), (869617,), (736000,), (205456,), (613023,), (769545,), (347450,), (673079,), (324665,), (63784,), (37799,), (241116,), (267646,), (815531,), (619463,), (876304,), (946763,), (529345,), (9358,), (279453,), (486669,), (549602,), (61981,), (223233,), (215291,), (586938,), (431469,), (140655,), (361765,), (940337,), (306651,), (935937,), (915816,), (57974,), (221490,), (832346,), (108463,), (25205,), (430283,), (616870,), (610228,), (599691,), (574509,), (648542,), (316170,), (388233,), (855558,), (433798,), (951425,), (253538,), (84912,), (976619,), (420398,), (498175,), (188563,), (624694,)]\n"
     ]
    }
   ],
   "source": [
    "conn = psycopg2.connect(\n",
    "    host=\"127.0.0.1\",\n",
    "    database=\"RailwayManagement\",\n",
    "    user=\"postgres\",\n",
    "    password=\"postgres\"\n",
    ")\n",
    "cur = conn.cursor()\n",
    "cur.execute('''\n",
    "    SELECT passenger_id\n",
    "    FROM passengers\n",
    "    ORDER BY RANDOM()\n",
    "    LIMIT 100;\n",
    "''')\n",
    "\n",
    "passengers = cur.fetchall()\n",
    "\n",
    "cur.close()\n",
    "conn.close()\n",
    "\n",
    "print(passengers)"
   ]
  },
  {
   "cell_type": "code",
   "execution_count": 23,
   "id": "29042c0c",
   "metadata": {},
   "outputs": [
    {
     "name": "stdout",
     "output_type": "stream",
     "text": [
      "['11/02/2023', '11/01/2023', '11/01/2023', '11/02/2023', '11/02/2023', '11/01/2023', '11/02/2023', '11/02/2023', '11/03/2023', '11/03/2023', '11/01/2023', '11/01/2023', '11/02/2023', '11/02/2023', '11/02/2023', '11/03/2023', '11/03/2023', '11/03/2023', '11/01/2023', '11/03/2023', '11/03/2023', '11/02/2023', '11/01/2023', '11/03/2023', '11/02/2023', '11/02/2023', '11/03/2023', '11/01/2023', '11/01/2023', '11/03/2023', '11/02/2023', '11/01/2023', '11/03/2023', '11/03/2023', '11/02/2023', '11/03/2023', '11/02/2023', '11/02/2023', '11/01/2023', '11/01/2023', '11/01/2023', '11/01/2023', '11/03/2023', '11/02/2023', '11/01/2023', '11/01/2023', '11/01/2023', '11/01/2023', '11/03/2023', '11/02/2023', '11/01/2023', '11/01/2023', '11/01/2023', '11/02/2023', '11/02/2023', '11/01/2023', '11/01/2023', '11/02/2023', '11/02/2023', '11/01/2023', '11/03/2023', '11/03/2023', '11/03/2023', '11/01/2023', '11/01/2023', '11/03/2023', '11/01/2023', '11/01/2023', '11/03/2023', '11/03/2023', '11/02/2023', '11/01/2023', '11/03/2023', '11/03/2023', '11/03/2023', '11/02/2023', '11/01/2023', '11/01/2023', '11/02/2023', '11/02/2023', '11/02/2023', '11/02/2023', '11/03/2023', '11/01/2023', '11/03/2023', '11/01/2023', '11/02/2023', '11/03/2023', '11/02/2023', '11/01/2023', '11/02/2023', '11/03/2023', '11/01/2023', '11/02/2023', '11/01/2023', '11/02/2023', '11/03/2023', '11/03/2023', '11/01/2023', '11/01/2023']\n"
     ]
    }
   ],
   "source": [
    "dates = [\"11/01/2023\", \"11/02/2023\", \"11/03/2023\"]\n",
    "date_vals = [random.choice(dates) for _ in range(100)]\n",
    "print(date_vals)\n",
    "\n"
   ]
  },
  {
   "cell_type": "code",
   "execution_count": 24,
   "id": "709ac6a2",
   "metadata": {},
   "outputs": [
    {
     "name": "stdout",
     "output_type": "stream",
     "text": [
      "[('12326', datetime.time(7, 0), 'NLDM', datetime.time(15, 15), 'KOAA'), ('54474', datetime.time(3, 55), 'SRE', datetime.time(8, 50), 'DLI'), ('12861', datetime.time(15, 10), 'VSKP', datetime.time(4, 0), 'NZM'), ('59726', datetime.time(0, 45), 'HSR', datetime.time(6, 10), 'RE'), ('12244', datetime.time(15, 5), 'CBE', datetime.time(21, 50), 'MAS'), ('13413', datetime.time(19, 10), 'MLDT', datetime.time(4, 30), 'DLI'), ('52122', datetime.time(10, 55), 'JMNR', datetime.time(13, 10), 'PC'), ('12490', datetime.time(14, 35), 'DDR', datetime.time(13, 10), 'BKN'), ('52121', datetime.time(8, 0), 'PC', datetime.time(10, 5), 'JMNR'), ('54406', datetime.time(17, 45), 'MTC', datetime.time(20, 35), 'KRJ'), ('59216', datetime.time(19, 5), 'PBR', datetime.time(20, 35), 'BNVD'), ('54483', datetime.time(10, 30), 'HW', datetime.time(11, 20), 'RKSH'), ('53003', datetime.time(21, 25), 'HWH', datetime.time(7, 50), 'MLDT'), ('55036', datetime.time(14, 35), 'SCC', datetime.time(22, 25), 'GD'), ('37355', datetime.time(10, 20), 'HWH', datetime.time(11, 50), 'TAK'), ('51187', datetime.time(9, 30), 'BSL', datetime.time(3, 25), 'KTE'), ('56917', datetime.time(11, 30), 'RRB', datetime.time(13, 15), 'SMET'), ('47182', datetime.time(13, 20), 'LPI', datetime.time(14, 35), 'FM'), ('59044', datetime.time(4, 55), 'DRD', datetime.time(6, 15), 'VR'), ('41059', datetime.time(10, 35), 'MSB', datetime.time(11, 15), 'VLCY'), ('17415', datetime.time(20, 30), 'TPTY', datetime.time(16, 35), 'KOP'), ('12351', datetime.time(20, 35), 'HWH', datetime.time(6, 40), 'DNR'), ('12547', datetime.time(22, 25), 'AF', datetime.time(13, 35), 'ADI'), ('52563', datetime.time(11, 30), 'AGTL', datetime.time(21, 45), 'SCL'), ('51158', datetime.time(19, 20), 'ET', datetime.time(8, 35), 'BSL'), ('56725', datetime.time(18, 15), 'MDU', datetime.time(22, 35), 'RMM'), ('52088', datetime.time(8, 0), 'CUR', datetime.time(10, 20), 'SIKR'), ('12578', datetime.time(10, 10), 'MYS', datetime.time(14, 15), 'DBG'), ('2082', datetime.time(2, 40), 'LHU', datetime.time(9, 35), 'JP'), ('16086', datetime.time(6, 55), 'JTJ', datetime.time(9, 45), 'AJJ'), ('56373', datetime.time(8, 55), 'GUV', datetime.time(9, 35), 'TCR'), ('51755', datetime.time(10, 45), 'CHRM', datetime.time(11, 45), 'MDGR'), ('52285', datetime.time(13, 0), 'THE', datetime.time(17, 15), 'CPR'), ('51138', datetime.time(4, 10), 'AMI', datetime.time(4, 25), 'BD'), ('54071', datetime.time(19, 10), 'HSX', datetime.time(20, 20), 'JUC'), ('17203', datetime.time(4, 10), 'BVC', datetime.time(21, 0), 'CCT'), ('13414', datetime.time(21, 50), 'DLI', datetime.time(7, 20), 'MLDT'), ('54803', datetime.time(8, 45), 'JU', datetime.time(21, 35), 'ADI'), ('58803', datetime.time(6, 30), 'CAF', datetime.time(11, 40), 'G'), ('56878', datetime.time(17, 30), 'MV', datetime.time(21, 20), 'VM'), ('54004', datetime.time(9, 30), 'NZM', datetime.time(11, 40), 'KSV'), ('18204', datetime.time(18, 20), 'CNB', datetime.time(13, 10), 'DURG'), ('55752', datetime.time(16, 45), 'HDB', datetime.time(18, 40), 'NJP'), ('12712', datetime.time(14, 5), 'MAS', datetime.time(21, 10), 'BZA'), ('15696', datetime.time(14, 10), 'AGTL', datetime.time(8, 30), 'LMG'), ('15928', datetime.time(6, 0), 'DBRG', datetime.time(17, 35), 'KYQ'), ('12152', datetime.time(21, 15), 'HWH', datetime.time(7, 30), 'LTT'), ('16528', datetime.time(18, 20), 'CAN', datetime.time(7, 15), 'YPR'), ('16537', datetime.time(23, 5), 'SBC', datetime.time(14, 0), 'NCJ'), ('56009', datetime.time(7, 5), 'AJJ', datetime.time(9, 5), 'VLR'), ('54331', datetime.time(17, 5), 'LKO', datetime.time(19, 5), 'BLM'), ('57469', datetime.time(18, 50), 'KRNT', datetime.time(22, 10), 'GTL'), ('18189', datetime.time(15, 45), 'TATA', datetime.time(20, 25), 'ALLP'), ('12750', datetime.time(12, 25), 'LTT', datetime.time(14, 45), 'VSKP'), ('12936', datetime.time(16, 10), 'ST', datetime.time(20, 30), 'BDTS'), ('12472', datetime.time(11, 15), 'JAT', datetime.time(18, 5), 'BDTS'), ('53001', datetime.time(16, 0), 'HWH', datetime.time(22, 20), 'AZ'), ('14795', datetime.time(4, 30), 'BNW', datetime.time(11, 10), 'KLK'), ('11062', datetime.time(15, 50), 'DBG', datetime.time(3, 45), 'LTT'), ('53610', datetime.time(15, 45), 'MGS', datetime.time(18, 33), 'DOS'), ('19037', datetime.time(22, 40), 'BDTS', datetime.time(13, 40), 'GKP'), ('31922', datetime.time(15, 35), 'GEDE', datetime.time(18, 12), 'SDAH'), ('51195', datetime.time(7, 15), 'WR', datetime.time(10, 30), 'BPQ'), ('57552', datetime.time(15, 15), 'ADB', datetime.time(20, 55), 'PAU'), ('57279', datetime.time(18, 40), 'GDV', datetime.time(22, 0), 'NS'), ('16866', datetime.time(22, 5), 'ERS', datetime.time(11, 45), 'NCR'), ('18447', datetime.time(19, 35), 'BBS', datetime.time(12, 40), 'JDB'), ('47101', datetime.time(6, 0), 'HYB', datetime.time(6, 40), 'LPI'), ('55040', datetime.time(18, 30), 'NTV', datetime.time(21, 20), 'GKP'), ('15930', datetime.time(23, 45), 'DBRG', datetime.time(20, 15), 'MS'), ('52978', datetime.time(9, 10), 'MHOW', datetime.time(10, 0), 'INDB'), ('12788', datetime.time(1, 0), 'TEN', datetime.time(21, 35), 'BSP'), ('43501', datetime.time(4, 0), 'MAS', datetime.time(6, 15), 'TRT'), ('38460', datetime.time(15, 20), 'PKU', datetime.time(17, 10), 'HWH'), ('14265-Slip', datetime.time(8, 30), 'BSB', datetime.time(6, 10), 'RMR'), ('34794', datetime.time(21, 25), 'SDAH', datetime.time(0, 10), 'NMKA'), ('12725', datetime.time(13, 0), 'SBC', datetime.time(21, 50), 'DWR'), ('11096', datetime.time(19, 50), 'PUNE', datetime.time(7, 45), 'ADI'), ('52301', datetime.time(6, 5), 'BGNA', datetime.time(8, 5), 'KWF'), ('58017', datetime.time(5, 30), 'KGP', datetime.time(11, 20), 'ASN'), ('12665', datetime.time(16, 10), 'HWH', datetime.time(11, 40), 'CAPE'), ('55727', datetime.time(6, 30), 'KIR', datetime.time(10, 0), 'RDP'), ('16031', datetime.time(5, 15), 'MAS', datetime.time(13, 10), 'JAT'), ('31511', datetime.time(4, 35), 'SDAH', datetime.time(7, 0), 'STB'), ('56894', datetime.time(5, 40), 'KKDI', datetime.time(10, 15), 'TVR'), ('11108', datetime.time(18, 5), 'BSB', datetime.time(8, 55), 'GWL'), ('52027', datetime.time(13, 15), 'CRND', datetime.time(15, 25), 'DB'), ('51780', datetime.time(15, 25), 'BIX', datetime.time(18, 0), 'GWL'), ('53616', datetime.time(13, 50), 'GAYA', datetime.time(20, 15), 'JMP'), ('58658', datetime.time(20, 50), 'LAD', datetime.time(22, 5), 'RNC'), ('52402', datetime.time(9, 5), 'SRDR', datetime.time(10, 35), 'RTGH'), ('63546', datetime.time(9, 50), 'DHN', datetime.time(11, 10), 'ASN'), ('51676', datetime.time(23, 38), 'CPU', datetime.time(8, 25), 'KTE'), ('16536', datetime.time(15, 35), 'SUR', datetime.time(9, 15), 'YPR'), ('52213', datetime.time(6, 50), 'BRY', datetime.time(11, 40), 'MLN'), ('17305', datetime.time(16, 15), 'UBL', datetime.time(6, 15), 'NZM'), ('55812', datetime.time(14, 30), 'LMG', datetime.time(21, 45), 'GHY'), ('12884', datetime.time(15, 35), 'PRR', datetime.time(21, 15), 'HWH'), ('12142', datetime.time(10, 40), 'PPTA', datetime.time(15, 30), 'LTT'), ('12011', datetime.time(7, 40), 'NDLS', datetime.time(11, 45), 'KLK')]\n"
     ]
    }
   ],
   "source": [
    "conn = psycopg2.connect(\n",
    "    host=\"127.0.0.1\",\n",
    "    database=\"RailwayManagement\",\n",
    "    user=\"postgres\",\n",
    "    password=\"postgres\"\n",
    ")\n",
    "cur = conn.cursor()\n",
    "cur.execute('''\n",
    "    SELECT train_number,departure, from_station_code, arrival, to_station_code\n",
    "    FROM trains\n",
    "    ORDER BY RANDOM()\n",
    "    LIMIT 100;\n",
    "''')\n",
    "\n",
    "train_details = cur.fetchall()\n",
    "\n",
    "cur.close()\n",
    "conn.close()\n",
    "\n",
    "print(train_details)"
   ]
  },
  {
   "cell_type": "code",
   "execution_count": 25,
   "id": "6abfef03",
   "metadata": {},
   "outputs": [
    {
     "name": "stdout",
     "output_type": "stream",
     "text": [
      "['SA23', 'G3', 'FA64', 'SL65', 'TA20', 'FA63', 'TA58', 'SL16', 'CC30', 'SA27', 'G87', 'SA91', 'TA67', 'TA88', 'CC39', 'CC87', 'SA44', 'TA92', 'TA96', 'FC39', 'SL32', 'SL66', 'SA65', 'SL35', 'FA37', 'SL33', 'FA33', 'SA26', 'FA57', 'FA83', 'SA1', 'G100', 'CC86', 'FA85', 'G59', 'FA99', 'SA47', 'FA34', 'SL75', 'TA75', 'TA93', 'TA40', 'G4', 'SA23', 'SL61', 'CC98', 'CC10', 'SA33', 'G82', 'SL34', 'G30', 'FA17', 'SL73', 'FC95', 'FA51', 'CC4', 'CC57', 'G77', 'FA9', 'CC90', 'CC3', 'SA12', 'TA33', 'TA26', 'G13', 'SA1', 'SL86', 'SL28', 'SA80', 'CC46', 'FC80', 'FA21', 'CC46', 'SA1', 'CC36', 'G51', 'TA8', 'CC47', 'CC26', 'CC92', 'CC66', 'G75', 'CC52', 'CC51', 'G31', 'CC44', 'SL99', 'FA6', 'FC87', 'SL39', 'SA27', 'SL77', 'TA33', 'CC53', 'G67', 'SL22', 'SA96', 'SL81', 'TA59', 'SA82']\n"
     ]
    }
   ],
   "source": [
    "import random\n",
    "\n",
    "# Define the prefixes\n",
    "prefixes = [\"SL\", \"CC\", \"FC\", \"FA\", \"SA\", \"TA\", \"G\"]\n",
    "\n",
    "# Generate 100 samples\n",
    "seats = [f\"{random.choice(prefixes)}{random.randint(1, 100)}\" for _ in range(100)]\n",
    "\n",
    "print(seats)\n",
    "\n"
   ]
  },
  {
   "cell_type": "code",
   "execution_count": 26,
   "id": "a907e041",
   "metadata": {},
   "outputs": [
    {
     "name": "stdout",
     "output_type": "stream",
     "text": [
      "[10111253, 89738817, 76972317, 53301906, 90186536, 78049850, 84947639, 89627821, 26877852, 19245218, 45745743, 50336201, 54968417, 55910949, 37486227, 4455283, 37935804, 88295117, 26568710, 37147537, 43792052, 6535530, 80401230, 20841551, 11960383, 7642029, 23082726, 1069302, 66739332, 32114592, 54780017, 83431343, 50991972, 85888449, 69059606, 40436899, 74829273, 43717043, 94503803, 5329469, 38219696, 99628404, 18429320, 18186367, 16320354, 24318839, 95619272, 41661736, 54856354, 62659617, 37434633, 24030952, 4977736, 58802078, 3765515, 66787815, 68099125, 27420717, 1798101, 94178826, 71855586, 6128077, 35623759, 2253691, 31960793, 10178769, 81004776, 49586748, 81291943, 71485006, 18858760, 84931428, 29206566, 53838952, 17027618, 25282690, 55406231, 3002853, 80549270, 73818213, 96700647, 15166309, 62878751, 25871676, 52736901, 67986310, 26601031, 54239591, 24583879, 77670818, 16536942, 15437578, 96499291, 82009618, 25639078, 84002648, 96345696, 53269833, 87303899, 11579364]\n"
     ]
    }
   ],
   "source": [
    "rids=[]\n",
    "for i in range(100):\n",
    "    rid = fake.unique.random_number(digits=8)\n",
    "    rids.append(rid)\n",
    "print(rids)"
   ]
  },
  {
   "cell_type": "code",
   "execution_count": 27,
   "id": "792610ea",
   "metadata": {},
   "outputs": [
    {
     "name": "stdout",
     "output_type": "stream",
     "text": [
      "[(10111253, 475361, '11/02/2023', '12326', datetime.time(7, 0), 'NLDM', datetime.time(15, 15), 'KOAA', 'SA23'), (89738817, 682706, '11/01/2023', '54474', datetime.time(3, 55), 'SRE', datetime.time(8, 50), 'DLI', 'G3'), (76972317, 914873, '11/01/2023', '12861', datetime.time(15, 10), 'VSKP', datetime.time(4, 0), 'NZM', 'FA64'), (53301906, 403847, '11/02/2023', '59726', datetime.time(0, 45), 'HSR', datetime.time(6, 10), 'RE', 'SL65'), (90186536, 834476, '11/02/2023', '12244', datetime.time(15, 5), 'CBE', datetime.time(21, 50), 'MAS', 'TA20'), (78049850, 210349, '11/01/2023', '13413', datetime.time(19, 10), 'MLDT', datetime.time(4, 30), 'DLI', 'FA63'), (84947639, 667205, '11/02/2023', '52122', datetime.time(10, 55), 'JMNR', datetime.time(13, 10), 'PC', 'TA58'), (89627821, 354733, '11/02/2023', '12490', datetime.time(14, 35), 'DDR', datetime.time(13, 10), 'BKN', 'SL16'), (26877852, 248413, '11/03/2023', '52121', datetime.time(8, 0), 'PC', datetime.time(10, 5), 'JMNR', 'CC30'), (19245218, 948391, '11/03/2023', '54406', datetime.time(17, 45), 'MTC', datetime.time(20, 35), 'KRJ', 'SA27'), (45745743, 11239, '11/01/2023', '59216', datetime.time(19, 5), 'PBR', datetime.time(20, 35), 'BNVD', 'G87'), (50336201, 723647, '11/01/2023', '54483', datetime.time(10, 30), 'HW', datetime.time(11, 20), 'RKSH', 'SA91'), (54968417, 514651, '11/02/2023', '53003', datetime.time(21, 25), 'HWH', datetime.time(7, 50), 'MLDT', 'TA67'), (55910949, 565370, '11/02/2023', '55036', datetime.time(14, 35), 'SCC', datetime.time(22, 25), 'GD', 'TA88'), (37486227, 163622, '11/02/2023', '37355', datetime.time(10, 20), 'HWH', datetime.time(11, 50), 'TAK', 'CC39'), (4455283, 571463, '11/03/2023', '51187', datetime.time(9, 30), 'BSL', datetime.time(3, 25), 'KTE', 'CC87'), (37935804, 375476, '11/03/2023', '56917', datetime.time(11, 30), 'RRB', datetime.time(13, 15), 'SMET', 'SA44'), (88295117, 608846, '11/03/2023', '47182', datetime.time(13, 20), 'LPI', datetime.time(14, 35), 'FM', 'TA92'), (26568710, 132316, '11/01/2023', '59044', datetime.time(4, 55), 'DRD', datetime.time(6, 15), 'VR', 'TA96'), (37147537, 876969, '11/03/2023', '41059', datetime.time(10, 35), 'MSB', datetime.time(11, 15), 'VLCY', 'FC39'), (43792052, 256536, '11/03/2023', '17415', datetime.time(20, 30), 'TPTY', datetime.time(16, 35), 'KOP', 'SL32'), (6535530, 136015, '11/02/2023', '12351', datetime.time(20, 35), 'HWH', datetime.time(6, 40), 'DNR', 'SL66'), (80401230, 399509, '11/01/2023', '12547', datetime.time(22, 25), 'AF', datetime.time(13, 35), 'ADI', 'SA65'), (20841551, 801725, '11/03/2023', '52563', datetime.time(11, 30), 'AGTL', datetime.time(21, 45), 'SCL', 'SL35'), (11960383, 482847, '11/02/2023', '51158', datetime.time(19, 20), 'ET', datetime.time(8, 35), 'BSL', 'FA37'), (7642029, 440065, '11/02/2023', '56725', datetime.time(18, 15), 'MDU', datetime.time(22, 35), 'RMM', 'SL33'), (23082726, 576711, '11/03/2023', '52088', datetime.time(8, 0), 'CUR', datetime.time(10, 20), 'SIKR', 'FA33'), (1069302, 192458, '11/01/2023', '12578', datetime.time(10, 10), 'MYS', datetime.time(14, 15), 'DBG', 'SA26'), (66739332, 936968, '11/01/2023', '2082', datetime.time(2, 40), 'LHU', datetime.time(9, 35), 'JP', 'FA57'), (32114592, 645322, '11/03/2023', '16086', datetime.time(6, 55), 'JTJ', datetime.time(9, 45), 'AJJ', 'FA83'), (54780017, 75915, '11/02/2023', '56373', datetime.time(8, 55), 'GUV', datetime.time(9, 35), 'TCR', 'SA1'), (83431343, 400113, '11/01/2023', '51755', datetime.time(10, 45), 'CHRM', datetime.time(11, 45), 'MDGR', 'G100'), (50991972, 717193, '11/03/2023', '52285', datetime.time(13, 0), 'THE', datetime.time(17, 15), 'CPR', 'CC86'), (85888449, 216, '11/03/2023', '51138', datetime.time(4, 10), 'AMI', datetime.time(4, 25), 'BD', 'FA85'), (69059606, 674710, '11/02/2023', '54071', datetime.time(19, 10), 'HSX', datetime.time(20, 20), 'JUC', 'G59'), (40436899, 820197, '11/03/2023', '17203', datetime.time(4, 10), 'BVC', datetime.time(21, 0), 'CCT', 'FA99'), (74829273, 509210, '11/02/2023', '13414', datetime.time(21, 50), 'DLI', datetime.time(7, 20), 'MLDT', 'SA47'), (43717043, 941654, '11/02/2023', '54803', datetime.time(8, 45), 'JU', datetime.time(21, 35), 'ADI', 'FA34'), (94503803, 169249, '11/01/2023', '58803', datetime.time(6, 30), 'CAF', datetime.time(11, 40), 'G', 'SL75'), (5329469, 707857, '11/01/2023', '56878', datetime.time(17, 30), 'MV', datetime.time(21, 20), 'VM', 'TA75'), (38219696, 383040, '11/01/2023', '54004', datetime.time(9, 30), 'NZM', datetime.time(11, 40), 'KSV', 'TA93'), (99628404, 19660, '11/01/2023', '18204', datetime.time(18, 20), 'CNB', datetime.time(13, 10), 'DURG', 'TA40'), (18429320, 192803, '11/03/2023', '55752', datetime.time(16, 45), 'HDB', datetime.time(18, 40), 'NJP', 'G4'), (18186367, 315845, '11/02/2023', '12712', datetime.time(14, 5), 'MAS', datetime.time(21, 10), 'BZA', 'SA23'), (16320354, 521753, '11/01/2023', '15696', datetime.time(14, 10), 'AGTL', datetime.time(8, 30), 'LMG', 'SL61'), (24318839, 869617, '11/01/2023', '15928', datetime.time(6, 0), 'DBRG', datetime.time(17, 35), 'KYQ', 'CC98'), (95619272, 736000, '11/01/2023', '12152', datetime.time(21, 15), 'HWH', datetime.time(7, 30), 'LTT', 'CC10'), (41661736, 205456, '11/01/2023', '16528', datetime.time(18, 20), 'CAN', datetime.time(7, 15), 'YPR', 'SA33'), (54856354, 613023, '11/03/2023', '16537', datetime.time(23, 5), 'SBC', datetime.time(14, 0), 'NCJ', 'G82'), (62659617, 769545, '11/02/2023', '56009', datetime.time(7, 5), 'AJJ', datetime.time(9, 5), 'VLR', 'SL34'), (37434633, 347450, '11/01/2023', '54331', datetime.time(17, 5), 'LKO', datetime.time(19, 5), 'BLM', 'G30'), (24030952, 673079, '11/01/2023', '57469', datetime.time(18, 50), 'KRNT', datetime.time(22, 10), 'GTL', 'FA17'), (4977736, 324665, '11/01/2023', '18189', datetime.time(15, 45), 'TATA', datetime.time(20, 25), 'ALLP', 'SL73'), (58802078, 63784, '11/02/2023', '12750', datetime.time(12, 25), 'LTT', datetime.time(14, 45), 'VSKP', 'FC95'), (3765515, 37799, '11/02/2023', '12936', datetime.time(16, 10), 'ST', datetime.time(20, 30), 'BDTS', 'FA51'), (66787815, 241116, '11/01/2023', '12472', datetime.time(11, 15), 'JAT', datetime.time(18, 5), 'BDTS', 'CC4'), (68099125, 267646, '11/01/2023', '53001', datetime.time(16, 0), 'HWH', datetime.time(22, 20), 'AZ', 'CC57'), (27420717, 815531, '11/02/2023', '14795', datetime.time(4, 30), 'BNW', datetime.time(11, 10), 'KLK', 'G77'), (1798101, 619463, '11/02/2023', '11062', datetime.time(15, 50), 'DBG', datetime.time(3, 45), 'LTT', 'FA9'), (94178826, 876304, '11/01/2023', '53610', datetime.time(15, 45), 'MGS', datetime.time(18, 33), 'DOS', 'CC90'), (71855586, 946763, '11/03/2023', '19037', datetime.time(22, 40), 'BDTS', datetime.time(13, 40), 'GKP', 'CC3'), (6128077, 529345, '11/03/2023', '31922', datetime.time(15, 35), 'GEDE', datetime.time(18, 12), 'SDAH', 'SA12'), (35623759, 9358, '11/03/2023', '51195', datetime.time(7, 15), 'WR', datetime.time(10, 30), 'BPQ', 'TA33'), (2253691, 279453, '11/01/2023', '57552', datetime.time(15, 15), 'ADB', datetime.time(20, 55), 'PAU', 'TA26'), (31960793, 486669, '11/01/2023', '57279', datetime.time(18, 40), 'GDV', datetime.time(22, 0), 'NS', 'G13'), (10178769, 549602, '11/03/2023', '16866', datetime.time(22, 5), 'ERS', datetime.time(11, 45), 'NCR', 'SA1'), (81004776, 61981, '11/01/2023', '18447', datetime.time(19, 35), 'BBS', datetime.time(12, 40), 'JDB', 'SL86'), (49586748, 223233, '11/01/2023', '47101', datetime.time(6, 0), 'HYB', datetime.time(6, 40), 'LPI', 'SL28'), (81291943, 215291, '11/03/2023', '55040', datetime.time(18, 30), 'NTV', datetime.time(21, 20), 'GKP', 'SA80'), (71485006, 586938, '11/03/2023', '15930', datetime.time(23, 45), 'DBRG', datetime.time(20, 15), 'MS', 'CC46'), (18858760, 431469, '11/02/2023', '52978', datetime.time(9, 10), 'MHOW', datetime.time(10, 0), 'INDB', 'FC80'), (84931428, 140655, '11/01/2023', '12788', datetime.time(1, 0), 'TEN', datetime.time(21, 35), 'BSP', 'FA21'), (29206566, 361765, '11/03/2023', '43501', datetime.time(4, 0), 'MAS', datetime.time(6, 15), 'TRT', 'CC46'), (53838952, 940337, '11/03/2023', '38460', datetime.time(15, 20), 'PKU', datetime.time(17, 10), 'HWH', 'SA1'), (17027618, 306651, '11/03/2023', '14265-Slip', datetime.time(8, 30), 'BSB', datetime.time(6, 10), 'RMR', 'CC36'), (25282690, 935937, '11/02/2023', '34794', datetime.time(21, 25), 'SDAH', datetime.time(0, 10), 'NMKA', 'G51'), (55406231, 915816, '11/01/2023', '12725', datetime.time(13, 0), 'SBC', datetime.time(21, 50), 'DWR', 'TA8'), (3002853, 57974, '11/01/2023', '11096', datetime.time(19, 50), 'PUNE', datetime.time(7, 45), 'ADI', 'CC47'), (80549270, 221490, '11/02/2023', '52301', datetime.time(6, 5), 'BGNA', datetime.time(8, 5), 'KWF', 'CC26'), (73818213, 832346, '11/02/2023', '58017', datetime.time(5, 30), 'KGP', datetime.time(11, 20), 'ASN', 'CC92'), (96700647, 108463, '11/02/2023', '12665', datetime.time(16, 10), 'HWH', datetime.time(11, 40), 'CAPE', 'CC66'), (15166309, 25205, '11/02/2023', '55727', datetime.time(6, 30), 'KIR', datetime.time(10, 0), 'RDP', 'G75'), (62878751, 430283, '11/03/2023', '16031', datetime.time(5, 15), 'MAS', datetime.time(13, 10), 'JAT', 'CC52'), (25871676, 616870, '11/01/2023', '31511', datetime.time(4, 35), 'SDAH', datetime.time(7, 0), 'STB', 'CC51'), (52736901, 610228, '11/03/2023', '56894', datetime.time(5, 40), 'KKDI', datetime.time(10, 15), 'TVR', 'G31'), (67986310, 599691, '11/01/2023', '11108', datetime.time(18, 5), 'BSB', datetime.time(8, 55), 'GWL', 'CC44'), (26601031, 574509, '11/02/2023', '52027', datetime.time(13, 15), 'CRND', datetime.time(15, 25), 'DB', 'SL99'), (54239591, 648542, '11/03/2023', '51780', datetime.time(15, 25), 'BIX', datetime.time(18, 0), 'GWL', 'FA6'), (24583879, 316170, '11/02/2023', '53616', datetime.time(13, 50), 'GAYA', datetime.time(20, 15), 'JMP', 'FC87'), (77670818, 388233, '11/01/2023', '58658', datetime.time(20, 50), 'LAD', datetime.time(22, 5), 'RNC', 'SL39'), (16536942, 855558, '11/02/2023', '52402', datetime.time(9, 5), 'SRDR', datetime.time(10, 35), 'RTGH', 'SA27'), (15437578, 433798, '11/03/2023', '63546', datetime.time(9, 50), 'DHN', datetime.time(11, 10), 'ASN', 'SL77'), (96499291, 951425, '11/01/2023', '51676', datetime.time(23, 38), 'CPU', datetime.time(8, 25), 'KTE', 'TA33'), (82009618, 253538, '11/02/2023', '16536', datetime.time(15, 35), 'SUR', datetime.time(9, 15), 'YPR', 'CC53'), (25639078, 84912, '11/01/2023', '52213', datetime.time(6, 50), 'BRY', datetime.time(11, 40), 'MLN', 'G67'), (84002648, 976619, '11/02/2023', '17305', datetime.time(16, 15), 'UBL', datetime.time(6, 15), 'NZM', 'SL22'), (96345696, 420398, '11/03/2023', '55812', datetime.time(14, 30), 'LMG', datetime.time(21, 45), 'GHY', 'SA96'), (53269833, 498175, '11/03/2023', '12884', datetime.time(15, 35), 'PRR', datetime.time(21, 15), 'HWH', 'SL81'), (87303899, 188563, '11/01/2023', '12142', datetime.time(10, 40), 'PPTA', datetime.time(15, 30), 'LTT', 'TA59'), (11579364, 624694, '11/01/2023', '12011', datetime.time(7, 40), 'NDLS', datetime.time(11, 45), 'KLK', 'SA82')]\n"
     ]
    }
   ],
   "source": [
    "reservation_details = [((z,) + a + (b,) + c + (d,)) for z, a, b, c, d in zip(rids, passengers, date_vals, train_details, seats)]\n",
    "print(reservation_details)\n"
   ]
  },
  {
   "cell_type": "code",
   "execution_count": 28,
   "id": "f1761519",
   "metadata": {},
   "outputs": [],
   "source": [
    "conn = psycopg2.connect(\n",
    "    host=\"127.0.0.1\",\n",
    "    database=\"Railway_Management\",\n",
    "    user=\"postgres\",\n",
    "    password=\"postgres\"\n",
    ")\n",
    "cur = conn.cursor()\n",
    "\n",
    "insert_query = \"\"\"INSERT INTO reservations (\n",
    "                    reservation_id, passenger_id, \n",
    "                    date, \n",
    "                    train_number, departure, from_station_code, arrival, to_station_code, \n",
    "                    seat_number) \n",
    "                  VALUES (%s, %s, %s, %s, %s, %s, %s, %s, %s)\"\"\"\n",
    "\n",
    "# Inserting each tuple\n",
    "for record in reservation_details:\n",
    "    cur.execute(insert_query, record)\n",
    "\n",
    "conn.commit()\n",
    "cur.close()\n",
    "conn.close()"
   ]
  },
  {
   "cell_type": "code",
   "execution_count": null,
   "id": "80e790af",
   "metadata": {},
   "outputs": [],
   "source": []
  }
 ],
 "metadata": {
  "kernelspec": {
   "display_name": "Python 3 (ipykernel)",
   "language": "python",
   "name": "python3"
  },
  "language_info": {
   "codemirror_mode": {
    "name": "ipython",
    "version": 3
   },
   "file_extension": ".py",
   "mimetype": "text/x-python",
   "name": "python",
   "nbconvert_exporter": "python",
   "pygments_lexer": "ipython3",
   "version": "3.11.4"
  }
 },
 "nbformat": 4,
 "nbformat_minor": 5
}
